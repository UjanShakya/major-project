{
 "cells": [
  {
   "cell_type": "code",
   "execution_count": 55,
   "id": "93a32b40",
   "metadata": {},
   "outputs": [
    {
     "name": "stdout",
     "output_type": "stream",
     "text": [
      "Model: \"sequential_16\"\n",
      "_________________________________________________________________\n",
      "Layer (type)                 Output Shape              Param #   \n",
      "=================================================================\n",
      "conv2d_48 (Conv2D)           (None, 128, 11, 32)       320       \n",
      "_________________________________________________________________\n",
      "max_pooling2d_48 (MaxPooling (None, 64, 6, 32)         0         \n",
      "_________________________________________________________________\n",
      "batch_normalization_48 (Batc (None, 64, 6, 32)         128       \n",
      "_________________________________________________________________\n",
      "conv2d_49 (Conv2D)           (None, 62, 4, 32)         9248      \n",
      "_________________________________________________________________\n",
      "max_pooling2d_49 (MaxPooling (None, 31, 2, 32)         0         \n",
      "_________________________________________________________________\n",
      "batch_normalization_49 (Batc (None, 31, 2, 32)         128       \n",
      "_________________________________________________________________\n",
      "conv2d_50 (Conv2D)           (None, 30, 1, 32)         4128      \n",
      "_________________________________________________________________\n",
      "max_pooling2d_50 (MaxPooling (None, 15, 1, 32)         0         \n",
      "_________________________________________________________________\n",
      "batch_normalization_50 (Batc (None, 15, 1, 32)         128       \n",
      "_________________________________________________________________\n",
      "flatten_16 (Flatten)         (None, 480)               0         \n",
      "_________________________________________________________________\n",
      "dense_32 (Dense)             (None, 64)                30784     \n",
      "_________________________________________________________________\n",
      "dropout_16 (Dropout)         (None, 64)                0         \n",
      "_________________________________________________________________\n",
      "dense_33 (Dense)             (None, 3)                 195       \n",
      "=================================================================\n",
      "Total params: 45,059\n",
      "Trainable params: 44,867\n",
      "Non-trainable params: 192\n",
      "_________________________________________________________________\n",
      "Epoch 1/90\n",
      "19/19 [==============================] - 1s 25ms/step - loss: 1.4899 - accuracy: 0.4396 - val_loss: 1.6585 - val_accuracy: 0.3624\n",
      "Epoch 2/90\n",
      "19/19 [==============================] - 0s 16ms/step - loss: 1.2681 - accuracy: 0.5369 - val_loss: 1.3924 - val_accuracy: 0.4094\n",
      "Epoch 3/90\n",
      "19/19 [==============================] - 0s 12ms/step - loss: 1.0533 - accuracy: 0.6057 - val_loss: 1.2736 - val_accuracy: 0.4430\n",
      "Epoch 4/90\n",
      "19/19 [==============================] - 0s 12ms/step - loss: 0.9671 - accuracy: 0.6644 - val_loss: 1.1905 - val_accuracy: 0.4631\n",
      "Epoch 5/90\n",
      "19/19 [==============================] - 0s 11ms/step - loss: 0.9427 - accuracy: 0.6728 - val_loss: 1.1250 - val_accuracy: 0.5302\n",
      "Epoch 6/90\n",
      "19/19 [==============================] - 0s 11ms/step - loss: 0.8104 - accuracy: 0.7282 - val_loss: 1.0771 - val_accuracy: 0.5705\n",
      "Epoch 7/90\n",
      "19/19 [==============================] - 0s 12ms/step - loss: 0.7962 - accuracy: 0.7433 - val_loss: 1.0152 - val_accuracy: 0.6040\n",
      "Epoch 8/90\n",
      "19/19 [==============================] - 0s 11ms/step - loss: 0.7477 - accuracy: 0.7534 - val_loss: 0.9605 - val_accuracy: 0.6376\n",
      "Epoch 9/90\n",
      "19/19 [==============================] - 0s 14ms/step - loss: 0.7142 - accuracy: 0.7785 - val_loss: 0.9229 - val_accuracy: 0.6913\n",
      "Epoch 10/90\n",
      "19/19 [==============================] - 0s 12ms/step - loss: 0.6778 - accuracy: 0.8104 - val_loss: 0.8930 - val_accuracy: 0.7114\n",
      "Epoch 11/90\n",
      "19/19 [==============================] - 0s 12ms/step - loss: 0.6640 - accuracy: 0.8037 - val_loss: 0.8539 - val_accuracy: 0.7248\n",
      "Epoch 12/90\n",
      "19/19 [==============================] - 0s 12ms/step - loss: 0.6332 - accuracy: 0.8020 - val_loss: 0.8201 - val_accuracy: 0.7315\n",
      "Epoch 13/90\n",
      "19/19 [==============================] - 0s 12ms/step - loss: 0.5800 - accuracy: 0.8523 - val_loss: 0.7964 - val_accuracy: 0.7651\n",
      "Epoch 14/90\n",
      "19/19 [==============================] - 0s 12ms/step - loss: 0.5702 - accuracy: 0.8557 - val_loss: 0.7808 - val_accuracy: 0.7718\n",
      "Epoch 15/90\n",
      "19/19 [==============================] - 0s 12ms/step - loss: 0.5556 - accuracy: 0.8624 - val_loss: 0.7692 - val_accuracy: 0.7651\n",
      "Epoch 16/90\n",
      "19/19 [==============================] - 0s 12ms/step - loss: 0.5237 - accuracy: 0.8775 - val_loss: 0.7591 - val_accuracy: 0.7987\n",
      "Epoch 17/90\n",
      "19/19 [==============================] - 0s 12ms/step - loss: 0.5133 - accuracy: 0.8708 - val_loss: 0.7459 - val_accuracy: 0.7987\n",
      "Epoch 18/90\n",
      "19/19 [==============================] - 0s 15ms/step - loss: 0.4776 - accuracy: 0.8893 - val_loss: 0.7436 - val_accuracy: 0.7919\n",
      "Epoch 19/90\n",
      "19/19 [==============================] - 0s 12ms/step - loss: 0.4679 - accuracy: 0.8943 - val_loss: 0.7403 - val_accuracy: 0.7919\n",
      "Epoch 20/90\n",
      "19/19 [==============================] - 0s 12ms/step - loss: 0.4749 - accuracy: 0.9010 - val_loss: 0.7376 - val_accuracy: 0.7852\n",
      "Epoch 21/90\n",
      "19/19 [==============================] - 0s 15ms/step - loss: 0.4542 - accuracy: 0.8909 - val_loss: 0.7415 - val_accuracy: 0.7785\n",
      "Epoch 22/90\n",
      "19/19 [==============================] - 0s 12ms/step - loss: 0.4193 - accuracy: 0.9228 - val_loss: 0.7330 - val_accuracy: 0.7852\n",
      "Epoch 23/90\n",
      "19/19 [==============================] - 0s 11ms/step - loss: 0.4203 - accuracy: 0.9211 - val_loss: 0.7329 - val_accuracy: 0.7785\n",
      "Epoch 24/90\n",
      "19/19 [==============================] - 0s 12ms/step - loss: 0.3972 - accuracy: 0.9446 - val_loss: 0.7296 - val_accuracy: 0.7852\n",
      "Epoch 25/90\n",
      "19/19 [==============================] - 0s 12ms/step - loss: 0.4047 - accuracy: 0.9211 - val_loss: 0.7278 - val_accuracy: 0.7919\n",
      "Epoch 26/90\n",
      "19/19 [==============================] - 0s 11ms/step - loss: 0.3954 - accuracy: 0.9463 - val_loss: 0.7341 - val_accuracy: 0.7718\n",
      "Epoch 27/90\n",
      "19/19 [==============================] - 0s 12ms/step - loss: 0.3659 - accuracy: 0.9513 - val_loss: 0.7359 - val_accuracy: 0.7651\n",
      "Epoch 28/90\n",
      "19/19 [==============================] - 0s 11ms/step - loss: 0.3757 - accuracy: 0.9396 - val_loss: 0.7028 - val_accuracy: 0.8054\n",
      "Epoch 29/90\n",
      "19/19 [==============================] - 0s 11ms/step - loss: 0.3546 - accuracy: 0.9480 - val_loss: 0.7070 - val_accuracy: 0.7987\n",
      "Epoch 30/90\n",
      "19/19 [==============================] - 0s 13ms/step - loss: 0.3624 - accuracy: 0.9480 - val_loss: 0.7123 - val_accuracy: 0.7852\n",
      "Epoch 31/90\n",
      "19/19 [==============================] - 0s 11ms/step - loss: 0.3395 - accuracy: 0.9631 - val_loss: 0.7301 - val_accuracy: 0.7718\n",
      "Epoch 32/90\n",
      "19/19 [==============================] - 0s 11ms/step - loss: 0.3270 - accuracy: 0.9782 - val_loss: 0.7321 - val_accuracy: 0.7651\n",
      "Epoch 33/90\n",
      "19/19 [==============================] - 0s 11ms/step - loss: 0.3327 - accuracy: 0.9547 - val_loss: 0.7115 - val_accuracy: 0.7852\n",
      "Epoch 34/90\n",
      "19/19 [==============================] - 0s 11ms/step - loss: 0.3303 - accuracy: 0.9614 - val_loss: 0.7029 - val_accuracy: 0.7919\n",
      "Epoch 35/90\n",
      "19/19 [==============================] - 0s 11ms/step - loss: 0.3277 - accuracy: 0.9631 - val_loss: 0.6843 - val_accuracy: 0.7919\n",
      "Epoch 36/90\n",
      "19/19 [==============================] - 0s 11ms/step - loss: 0.2995 - accuracy: 0.9765 - val_loss: 0.6733 - val_accuracy: 0.8054\n",
      "Epoch 37/90\n",
      "19/19 [==============================] - 0s 11ms/step - loss: 0.3029 - accuracy: 0.9631 - val_loss: 0.6583 - val_accuracy: 0.8054\n",
      "Epoch 38/90\n",
      "19/19 [==============================] - 0s 11ms/step - loss: 0.2836 - accuracy: 0.9832 - val_loss: 0.6625 - val_accuracy: 0.7987\n",
      "Epoch 39/90\n",
      "19/19 [==============================] - 0s 11ms/step - loss: 0.3013 - accuracy: 0.9715 - val_loss: 0.6910 - val_accuracy: 0.7785\n",
      "Epoch 40/90\n",
      "19/19 [==============================] - 0s 11ms/step - loss: 0.2798 - accuracy: 0.9866 - val_loss: 0.6449 - val_accuracy: 0.8121\n",
      "Epoch 41/90\n",
      "19/19 [==============================] - 0s 11ms/step - loss: 0.2760 - accuracy: 0.9732 - val_loss: 0.6325 - val_accuracy: 0.8188\n",
      "Epoch 42/90\n",
      "19/19 [==============================] - 0s 11ms/step - loss: 0.2669 - accuracy: 0.9883 - val_loss: 0.6571 - val_accuracy: 0.7987\n",
      "Epoch 43/90\n",
      "19/19 [==============================] - 0s 11ms/step - loss: 0.2899 - accuracy: 0.9732 - val_loss: 0.6355 - val_accuracy: 0.8054\n",
      "Epoch 44/90\n"
     ]
    },
    {
     "name": "stdout",
     "output_type": "stream",
     "text": [
      "19/19 [==============================] - 0s 11ms/step - loss: 0.2618 - accuracy: 0.9849 - val_loss: 0.6274 - val_accuracy: 0.8054\n",
      "Epoch 45/90\n",
      "19/19 [==============================] - 0s 11ms/step - loss: 0.2646 - accuracy: 0.9883 - val_loss: 0.6940 - val_accuracy: 0.7584\n",
      "Epoch 46/90\n",
      "19/19 [==============================] - 0s 11ms/step - loss: 0.2768 - accuracy: 0.9765 - val_loss: 0.6332 - val_accuracy: 0.8054\n",
      "Epoch 47/90\n",
      "19/19 [==============================] - 0s 11ms/step - loss: 0.2630 - accuracy: 0.9866 - val_loss: 0.6106 - val_accuracy: 0.8389\n",
      "Epoch 48/90\n",
      "19/19 [==============================] - 0s 11ms/step - loss: 0.2594 - accuracy: 0.9849 - val_loss: 0.6087 - val_accuracy: 0.8255\n",
      "Epoch 49/90\n",
      "19/19 [==============================] - 0s 12ms/step - loss: 0.2619 - accuracy: 0.9799 - val_loss: 0.6017 - val_accuracy: 0.8389\n",
      "Epoch 50/90\n",
      "19/19 [==============================] - 0s 11ms/step - loss: 0.2394 - accuracy: 0.9933 - val_loss: 0.6056 - val_accuracy: 0.8322\n",
      "Epoch 51/90\n",
      "19/19 [==============================] - 0s 11ms/step - loss: 0.2485 - accuracy: 0.9883 - val_loss: 0.6004 - val_accuracy: 0.8255\n",
      "Epoch 52/90\n",
      "19/19 [==============================] - 0s 11ms/step - loss: 0.2519 - accuracy: 0.9849 - val_loss: 0.6146 - val_accuracy: 0.8255\n",
      "Epoch 53/90\n",
      "19/19 [==============================] - 0s 11ms/step - loss: 0.2445 - accuracy: 0.9916 - val_loss: 0.6288 - val_accuracy: 0.8054\n",
      "Epoch 54/90\n",
      "19/19 [==============================] - 0s 11ms/step - loss: 0.2395 - accuracy: 0.9883 - val_loss: 0.5947 - val_accuracy: 0.8255\n",
      "Epoch 55/90\n",
      "19/19 [==============================] - 0s 11ms/step - loss: 0.2277 - accuracy: 0.9966 - val_loss: 0.5805 - val_accuracy: 0.8255\n",
      "Epoch 56/90\n",
      "19/19 [==============================] - 0s 11ms/step - loss: 0.2391 - accuracy: 0.9883 - val_loss: 0.5883 - val_accuracy: 0.8188\n",
      "Epoch 57/90\n",
      "19/19 [==============================] - 0s 11ms/step - loss: 0.2312 - accuracy: 0.9966 - val_loss: 0.5915 - val_accuracy: 0.8121\n",
      "Epoch 58/90\n",
      "19/19 [==============================] - 0s 11ms/step - loss: 0.2413 - accuracy: 0.9933 - val_loss: 0.5962 - val_accuracy: 0.8054\n",
      "Epoch 59/90\n",
      "19/19 [==============================] - 0s 11ms/step - loss: 0.2272 - accuracy: 0.9950 - val_loss: 0.5878 - val_accuracy: 0.8322\n",
      "Epoch 60/90\n",
      "19/19 [==============================] - 0s 11ms/step - loss: 0.2254 - accuracy: 0.9950 - val_loss: 0.5797 - val_accuracy: 0.8188\n",
      "Epoch 61/90\n",
      "19/19 [==============================] - 0s 11ms/step - loss: 0.2330 - accuracy: 0.9883 - val_loss: 0.5835 - val_accuracy: 0.8188\n",
      "Epoch 62/90\n",
      "19/19 [==============================] - 0s 11ms/step - loss: 0.2267 - accuracy: 0.9899 - val_loss: 0.5791 - val_accuracy: 0.8389\n",
      "Epoch 63/90\n",
      "19/19 [==============================] - 0s 11ms/step - loss: 0.2231 - accuracy: 0.9916 - val_loss: 0.5848 - val_accuracy: 0.8322\n",
      "Epoch 64/90\n",
      "19/19 [==============================] - 0s 11ms/step - loss: 0.2256 - accuracy: 0.9916 - val_loss: 0.5833 - val_accuracy: 0.8322\n",
      "Epoch 65/90\n",
      "19/19 [==============================] - 0s 11ms/step - loss: 0.2181 - accuracy: 0.9899 - val_loss: 0.5783 - val_accuracy: 0.8255\n",
      "Epoch 66/90\n",
      "19/19 [==============================] - 0s 11ms/step - loss: 0.2240 - accuracy: 0.9950 - val_loss: 0.5825 - val_accuracy: 0.8255\n",
      "Epoch 67/90\n",
      "19/19 [==============================] - 0s 11ms/step - loss: 0.2174 - accuracy: 0.9950 - val_loss: 0.6047 - val_accuracy: 0.8121\n",
      "Epoch 68/90\n",
      "19/19 [==============================] - 0s 11ms/step - loss: 0.2255 - accuracy: 0.9933 - val_loss: 0.5840 - val_accuracy: 0.8255\n",
      "Epoch 69/90\n",
      "19/19 [==============================] - 0s 11ms/step - loss: 0.2235 - accuracy: 0.9899 - val_loss: 0.5810 - val_accuracy: 0.8322\n",
      "Epoch 70/90\n",
      "19/19 [==============================] - 0s 11ms/step - loss: 0.2128 - accuracy: 0.9916 - val_loss: 0.5570 - val_accuracy: 0.8456\n",
      "Epoch 71/90\n",
      "19/19 [==============================] - 0s 11ms/step - loss: 0.2201 - accuracy: 0.9933 - val_loss: 0.5703 - val_accuracy: 0.8523\n",
      "Epoch 72/90\n",
      "19/19 [==============================] - 0s 11ms/step - loss: 0.2043 - accuracy: 0.9966 - val_loss: 0.5577 - val_accuracy: 0.8389\n",
      "Epoch 73/90\n",
      "19/19 [==============================] - 0s 11ms/step - loss: 0.2065 - accuracy: 0.9983 - val_loss: 0.5564 - val_accuracy: 0.8456\n",
      "Epoch 74/90\n",
      "19/19 [==============================] - 0s 11ms/step - loss: 0.2176 - accuracy: 0.9899 - val_loss: 0.5707 - val_accuracy: 0.8456\n",
      "Epoch 75/90\n",
      "19/19 [==============================] - 0s 11ms/step - loss: 0.2120 - accuracy: 0.9933 - val_loss: 0.5795 - val_accuracy: 0.8322\n",
      "Epoch 76/90\n",
      "19/19 [==============================] - 0s 11ms/step - loss: 0.2118 - accuracy: 0.9933 - val_loss: 0.5812 - val_accuracy: 0.8322\n",
      "Epoch 77/90\n",
      "19/19 [==============================] - 0s 10ms/step - loss: 0.2087 - accuracy: 0.9966 - val_loss: 0.5782 - val_accuracy: 0.8389\n",
      "Epoch 78/90\n",
      "19/19 [==============================] - 0s 11ms/step - loss: 0.2165 - accuracy: 0.9899 - val_loss: 0.5688 - val_accuracy: 0.8456\n",
      "Epoch 79/90\n",
      "19/19 [==============================] - 0s 11ms/step - loss: 0.2035 - accuracy: 0.9966 - val_loss: 0.5680 - val_accuracy: 0.8523\n",
      "Epoch 80/90\n",
      "19/19 [==============================] - 0s 11ms/step - loss: 0.1979 - accuracy: 0.9950 - val_loss: 0.5602 - val_accuracy: 0.8523\n",
      "Epoch 81/90\n",
      "19/19 [==============================] - 0s 11ms/step - loss: 0.2044 - accuracy: 0.9966 - val_loss: 0.5547 - val_accuracy: 0.8591\n",
      "Epoch 82/90\n",
      "19/19 [==============================] - 0s 11ms/step - loss: 0.2005 - accuracy: 0.9983 - val_loss: 0.5579 - val_accuracy: 0.8456\n",
      "Epoch 83/90\n",
      "19/19 [==============================] - 0s 11ms/step - loss: 0.2041 - accuracy: 0.9983 - val_loss: 0.5562 - val_accuracy: 0.8523\n",
      "Epoch 84/90\n",
      "19/19 [==============================] - 0s 11ms/step - loss: 0.1985 - accuracy: 0.9983 - val_loss: 0.5643 - val_accuracy: 0.8456\n",
      "Epoch 85/90\n",
      "19/19 [==============================] - 0s 11ms/step - loss: 0.1988 - accuracy: 0.9983 - val_loss: 0.5607 - val_accuracy: 0.8523\n",
      "Epoch 86/90\n",
      "19/19 [==============================] - 0s 11ms/step - loss: 0.2025 - accuracy: 0.9966 - val_loss: 0.5693 - val_accuracy: 0.8389\n",
      "Epoch 87/90\n",
      "19/19 [==============================] - 0s 11ms/step - loss: 0.2015 - accuracy: 0.9966 - val_loss: 0.5555 - val_accuracy: 0.8456\n",
      "Epoch 88/90\n",
      "19/19 [==============================] - 0s 11ms/step - loss: 0.1981 - accuracy: 0.9983 - val_loss: 0.5662 - val_accuracy: 0.8523\n",
      "Epoch 89/90\n",
      "19/19 [==============================] - 0s 11ms/step - loss: 0.1936 - accuracy: 0.9983 - val_loss: 0.5806 - val_accuracy: 0.8591\n",
      "Epoch 90/90\n",
      "19/19 [==============================] - 0s 11ms/step - loss: 0.1945 - accuracy: 0.9983 - val_loss: 0.5846 - val_accuracy: 0.8456\n"
     ]
    },
    {
     "data": {
      "image/png": "[encoded data removed]",
      "text/plain": [
       "<Figure size 432x288 with 2 Axes>"
      ]
     },
     "metadata": {
      "needs_background": "light"
     },
     "output_type": "display_data"
    },
    {
     "name": "stdout",
     "output_type": "stream",
     "text": [
      "8/8 - 0s - loss: 0.6809 - accuracy: 0.8635\n",
      "\n",
      "Test accuracy: 0.8634538054466248\n",
      "Target: Sherpa Nading, Predicted label: Sherpa Nading\n"
     ]
    }
   ],
   "source": [
    "import json\n",
    "import librosa\n",
    "import numpy as np\n",
    "from sklearn.model_selection import train_test_split\n",
    "import tensorflow.keras as keras\n",
    "import matplotlib.pyplot as plt\n",
    "\n",
    "DATA_PATH = \"json_data_test_1.json\"\n",
    "\n",
    "\n",
    "def load_data(data_path):\n",
    "    \"\"\"Loads training dataset from json file.\n",
    "\n",
    "        :param data_path (str): Path to json file containing data\n",
    "        :return X (ndarray): Inputs\n",
    "        :return y (ndarray): Targets\n",
    "    \"\"\"\n",
    "\n",
    "    with open(data_path, \"r\") as fp:\n",
    "        data = json.load(fp)\n",
    "\n",
    "    X = np.array(data[\"mfcc\"])\n",
    "    y = np.array(data[\"labels\"])\n",
    "    return X, y\n",
    "\n",
    "\n",
    "def plot_history(history):\n",
    "    \"\"\"Plots accuracy/loss for training/validation set as a function of the epochs\n",
    "\n",
    "        :param history: Training history of model\n",
    "        :return:\n",
    "    \"\"\"\n",
    "\n",
    "    fig, axs = plt.subplots(2)\n",
    "\n",
    "    # create accuracy sublpot\n",
    "    axs[0].plot(history.history[\"accuracy\"], label=\"train accuracy\")\n",
    "    axs[0].plot(history.history[\"val_accuracy\"], label=\"test accuracy\")\n",
    "    axs[0].set_ylabel(\"Accuracy\")\n",
    "    axs[0].legend(loc=\"lower right\")\n",
    "    axs[0].set_title(\"Accuracy eval\")\n",
    "\n",
    "    # create error sublpot\n",
    "    axs[1].plot(history.history[\"loss\"], label=\"train error\")\n",
    "    axs[1].plot(history.history[\"val_loss\"], label=\"test error\")\n",
    "    axs[1].set_ylabel(\"Error\")\n",
    "    axs[1].set_xlabel(\"Epoch\")\n",
    "    axs[1].legend(loc=\"upper right\")\n",
    "    axs[1].set_title(\"Error eval\")\n",
    "    plt.subplots_adjust(hspace=.5,wspace=0.4)\n",
    "\n",
    "    plt.show()\n",
    "\n",
    "\n",
    "def prepare_datasets(test_size, validation_size):\n",
    "    \"\"\"Loads data and splits it into train, validation and test sets.\n",
    "\n",
    "    :param test_size (float): Value in [0, 1] indicating percentage of data set to allocate to test split\n",
    "    :param validation_size (float): Value in [0, 1] indicating percentage of train set to allocate to validation split\n",
    "\n",
    "    :return X_train (ndarray): Input training set\n",
    "    :return X_validation (ndarray): Input validation set\n",
    "    :return X_test (ndarray): Input test set\n",
    "    :return y_train (ndarray): Target training set\n",
    "    :return y_validation (ndarray): Target validation set\n",
    "    :return y_test (ndarray): Target test set\n",
    "    \"\"\"\n",
    "\n",
    "    # load data\n",
    "    X, y = load_data(DATA_PATH)\n",
    "\n",
    "    # create train, validation and test split\n",
    "    X_train, X_test, y_train, y_test = train_test_split(X, y, test_size=test_size)\n",
    "    X_train, X_validation, y_train, y_validation = train_test_split(X_train, y_train, test_size=validation_size)\n",
    "\n",
    "    # add an axis to input sets\n",
    "    X_train = X_train[..., np.newaxis]\n",
    "    X_validation = X_validation[..., np.newaxis]\n",
    "    X_test = X_test[..., np.newaxis]\n",
    "\n",
    "    return X_train, X_validation, X_test, y_train, y_validation, y_test\n",
    "\n",
    "\n",
    "def build_model(input_shape):\n",
    "    \"\"\"Generates CNN model\n",
    "\n",
    "    :param input_shape (tuple): Shape of input set\n",
    "    :return model: CNN model\n",
    "    \"\"\"\n",
    "\n",
    "    # build network topology\n",
    "    model = keras.Sequential()\n",
    "\n",
    "    # 1st conv layer\n",
    "    model.add(keras.layers.Conv2D(32, (3, 3), activation='relu', input_shape=input_shape, kernel_regularizer=keras.regularizers.l2(0.001)))\n",
    "    model.add(keras.layers.MaxPooling2D((3, 3), strides=(2, 2), padding='same'))\n",
    "    #model.add(keras.layers.Dropout(0.3))\n",
    "    model.add(keras.layers.BatchNormalization())\n",
    "\n",
    "    # 2nd conv layer\n",
    "    model.add(keras.layers.Conv2D(32, (3, 3), activation='relu',kernel_regularizer=keras.regularizers.l2(0.001)))\n",
    "    model.add(keras.layers.MaxPooling2D((3, 3), strides=(2, 2), padding='same'))\n",
    "    #model.add(keras.layers.Dropout(0.3))\n",
    "    model.add(keras.layers.BatchNormalization())\n",
    "\n",
    "    # 3rd conv layer\n",
    "    model.add(keras.layers.Conv2D(32, (2, 2), activation='relu',kernel_regularizer=keras.regularizers.l2(0.001)))\n",
    "    model.add(keras.layers.MaxPooling2D((2, 2), strides=(2, 2), padding='same'))\n",
    "    #model.add(keras.layers.Dropout(0.3))\n",
    "    model.add(keras.layers.BatchNormalization())\n",
    "\n",
    "    # flatten output and feed it into dense layer\n",
    "    model.add(keras.layers.Flatten())\n",
    "    model.add(keras.layers.Dense(64, activation='relu',kernel_regularizer=keras.regularizers.l2(0.001)))\n",
    "    model.add(keras.layers.Dropout(0.3))\n",
    "\n",
    "    # output layer\n",
    "    model.add(keras.layers.Dense(3, activation='softmax'))\n",
    "    # where param 3 is number of genre\n",
    "\n",
    "    return model\n",
    "\n",
    "\n",
    "def predict(model, X, y):\n",
    "    \"\"\"Predict a single sample using the trained model\n",
    "\n",
    "    :param model: Trained classifier\n",
    "    :param X: Input data\n",
    "    :param y (int): Target\n",
    "    \"\"\"\n",
    "\n",
    "    # add a dimension to input data for sample - model.predict() expects a 4d array in this case\n",
    "    X = X[np.newaxis, ...] # array shape (1, 130, 13, 1)\n",
    "\n",
    "    # perform prediction\n",
    "    prediction = model.predict(X)\n",
    "\n",
    "    # get index with max value\n",
    "    predicted_index = np.argmax(prediction)\n",
    "    print(\"Target: {}, Predicted label: {}\".format(target_names[y],target_names[predicted_index]))\n",
    "    \n",
    "    \n",
    "\n",
    "\n",
    "if __name__ == \"__main__\":\n",
    "\n",
    "    # get train, validation, test splits\n",
    "    X_train, X_validation, X_test, y_train, y_validation, y_test = prepare_datasets(0.25, 0.2)\n",
    "\n",
    "    # create network\n",
    "    input_shape = (X_train.shape[1], X_train.shape[2], 1)\n",
    "    model = build_model(input_shape)\n",
    "\n",
    "    # compile model\n",
    "    optimiser = keras.optimizers.Adam(learning_rate=0.0001)\n",
    "    model.compile(optimizer=optimiser,\n",
    "                  loss='sparse_categorical_crossentropy',\n",
    "                  metrics=['accuracy'])\n",
    "\n",
    "    model.summary()\n",
    "\n",
    "    # train model\n",
    "    history = model.fit(X_train, y_train, validation_data=(X_validation, y_validation), batch_size=32, epochs=90)\n",
    "\n",
    "    # plot accuracy/error for training and validation\n",
    "    plot_history(history)\n",
    "\n",
    "    # evaluate model on test set\n",
    "    test_loss, test_acc = model.evaluate(X_test, y_test, verbose=2)\n",
    "    print('\\nTest accuracy:', test_acc)\n",
    "\n",
    "    # pick a sample to predict from the test set\n",
    "    X_to_predict = X_test[7]\n",
    "    y_to_predict = y_test[7]\n",
    "\n",
    "    # predict sample\n",
    "    predict(model, X_to_predict, y_to_predict)\n",
    "\n",
    "\n"
   ]
  },
  {
   "cell_type": "code",
   "execution_count": 56,
   "id": "d1cb7fdb",
   "metadata": {},
   "outputs": [],
   "source": [
    "from sklearn.metrics import classification_report"
   ]
  },
  {
   "cell_type": "code",
   "execution_count": 54,
   "id": "9b0114f0",
   "metadata": {},
   "outputs": [
    {
     "name": "stdout",
     "output_type": "stream",
     "text": [
      "{0: 'Newari', 1: 'Sherpa Nading', 2: 'Tamang Selo'}\n"
     ]
    }
   ],
   "source": [
    "dict_genres = {'Newari':0, 'Sherpa Nading':1, 'Tamang Selo':2  }\n",
    "\n",
    "\n",
    "reverse_map = {v: k for k, v in dict_genres.items()}\n",
    "print(reverse_map)\n",
    "target_names=list(dict_genres.keys())"
   ]
  },
  {
   "cell_type": "code",
   "execution_count": 57,
   "id": "4ccac45b",
   "metadata": {},
   "outputs": [
    {
     "data": {
      "text/plain": [
       "(249,)"
      ]
     },
     "execution_count": 57,
     "metadata": {},
     "output_type": "execute_result"
    }
   ],
   "source": [
    "y_test.shape"
   ]
  },
  {
   "cell_type": "code",
   "execution_count": 58,
   "id": "0c96f5d2",
   "metadata": {},
   "outputs": [
    {
     "name": "stdout",
     "output_type": "stream",
     "text": [
      "(249,) (249,)\n",
      "               precision    recall  f1-score   support\n",
      "\n",
      "       Newari       0.88      0.87      0.87        76\n",
      "Sherpa Nading       0.83      0.80      0.81        74\n",
      "  Tamang Selo       0.87      0.91      0.89        99\n",
      "\n",
      "     accuracy                           0.86       249\n",
      "    macro avg       0.86      0.86      0.86       249\n",
      " weighted avg       0.86      0.86      0.86       249\n",
      "\n"
     ]
    }
   ],
   "source": [
    "\n",
    "X_test = np.expand_dims(X_test, axis = -1)\n",
    "pred = model.predict(X_test)\n",
    "pred = np.argmax(pred, axis=1)\n",
    "labels = [0,1,2]\n",
    "target_names = dict_genres.keys()\n",
    "\n",
    "print(y_test.shape, pred.shape)\n",
    "print(classification_report(y_test, pred, target_names=target_names))"
   ]
  },
  {
   "cell_type": "code",
   "execution_count": 59,
   "id": "b3453fdb",
   "metadata": {},
   "outputs": [
    {
     "name": "stdout",
     "output_type": "stream",
     "text": [
      "0.8634538152610441\n"
     ]
    }
   ],
   "source": [
    "from sklearn.metrics import accuracy_score\n",
    "\n",
    "print(accuracy_score(y_test, pred))"
   ]
  },
  {
   "cell_type": "code",
   "execution_count": 60,
   "id": "cc6134bb",
   "metadata": {},
   "outputs": [
    {
     "data": {
      "text/plain": [
       "(149,)"
      ]
     },
     "execution_count": 60,
     "metadata": {},
     "output_type": "execute_result"
    }
   ],
   "source": [
    "y_validation.shape"
   ]
  },
  {
   "cell_type": "code",
   "execution_count": 61,
   "id": "b3e57b2f",
   "metadata": {},
   "outputs": [
    {
     "data": {
      "text/plain": [
       "(149, 130, 13, 1)"
      ]
     },
     "execution_count": 61,
     "metadata": {},
     "output_type": "execute_result"
    }
   ],
   "source": [
    "X_validation.shape"
   ]
  },
  {
   "cell_type": "code",
   "execution_count": 62,
   "id": "f203bc12",
   "metadata": {},
   "outputs": [
    {
     "name": "stdout",
     "output_type": "stream",
     "text": [
      "(149,) (149,)\n",
      "               precision    recall  f1-score   support\n",
      "\n",
      "       Newari       0.89      0.76      0.82        51\n",
      "Sherpa Nading       0.75      0.87      0.80        47\n",
      "  Tamang Selo       0.92      0.90      0.91        51\n",
      "\n",
      "     accuracy                           0.85       149\n",
      "    macro avg       0.85      0.85      0.85       149\n",
      " weighted avg       0.85      0.85      0.85       149\n",
      "\n"
     ]
    }
   ],
   "source": [
    "\n",
    "y_pred = model.predict(X_validation)\n",
    "y_pred = np.argmax(y_pred, axis=1)\n",
    "labels = [0,1,2]\n",
    "target_names = dict_genres.keys()\n",
    "\n",
    "print(y_validation.shape, y_pred.shape)\n",
    "print(classification_report(y_validation, y_pred, target_names=target_names))"
   ]
  },
  {
   "cell_type": "code",
   "execution_count": 63,
   "id": "d53d173b",
   "metadata": {},
   "outputs": [
    {
     "data": {
      "image/png": "[encoded data removed]",
      "text/plain": [
       "<Figure size 432x288 with 1 Axes>"
      ]
     },
     "metadata": {
      "needs_background": "light"
     },
     "output_type": "display_data"
    }
   ],
   "source": [
    "from sklearn.metrics import confusion_matrix\n",
    "import seaborn as sns\n",
    "\n",
    "\n",
    "mat = confusion_matrix(y_test, pred)\n",
    "sns.heatmap(mat.T, square=True, annot=True, fmt='d', cbar=False,\n",
    "            xticklabels=dict_genres.keys(),\n",
    "            yticklabels=dict_genres.keys())\n",
    "plt.xlabel('true label')\n",
    "plt.ylabel('predicted label');"
   ]
  },
  {
   "cell_type": "code",
   "execution_count": 64,
   "id": "2ee7131c",
   "metadata": {},
   "outputs": [
    {
     "name": "stdout",
     "output_type": "stream",
     "text": [
      "0.8634538152610441\n"
     ]
    }
   ],
   "source": [
    "from sklearn.metrics import accuracy_score\n",
    "print(accuracy_score(y_test, pred))"
   ]
  },
  {
   "cell_type": "code",
   "execution_count": 65,
   "id": "9da91c10",
   "metadata": {
    "scrolled": true
   },
   "outputs": [
    {
     "name": "stdout",
     "output_type": "stream",
     "text": [
      "0.8456375838926175\n"
     ]
    }
   ],
   "source": [
    "print(accuracy_score(y_validation, y_pred))\n"
   ]
  },
  {
   "cell_type": "code",
   "execution_count": 67,
   "id": "14f2e8e6",
   "metadata": {},
   "outputs": [],
   "source": [
    "# save model\n",
    "model.save(\"model.h5\")"
   ]
  },
  {
   "cell_type": "code",
   "execution_count": 23,
   "id": "b9834b4b",
   "metadata": {},
   "outputs": [],
   "source": []
  },
  {
   "cell_type": "code",
   "execution_count": 24,
   "id": "786b57be",
   "metadata": {},
   "outputs": [
    {
     "data": {
      "text/plain": [
       "'Newari'"
      ]
     },
     "execution_count": 24,
     "metadata": {},
     "output_type": "execute_result"
    }
   ],
   "source": [
    "target_names[y_test[2]]"
   ]
  },
  {
   "cell_type": "code",
   "execution_count": null,
   "id": "a242c5b8",
   "metadata": {},
   "outputs": [],
   "source": []
  }
 ],
 "metadata": {
  "kernelspec": {
   "display_name": "Python 3 (ipykernel)",
   "language": "python",
   "name": "python3"
  },
  "language_info": {
   "codemirror_mode": {
    "name": "ipython",
    "version": 3
   },
   "file_extension": ".py",
   "mimetype": "text/x-python",
   "name": "python",
   "nbconvert_exporter": "python",
   "pygments_lexer": "ipython3",
   "version": "3.9.7"
  }
 },
 "nbformat": 4,
 "nbformat_minor": 5
}
